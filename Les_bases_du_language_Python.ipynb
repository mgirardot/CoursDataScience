{
 "cells": [
  {
   "cell_type": "markdown",
   "metadata": {
    "slideshow": {
     "slide_type": "slide"
    }
   },
   "source": [
    "# Les bases du language Python\n",
    "\n",
    "## Sommaire\n",
    "-------------------\n",
    "\n",
    "### 1 - [Import de fonctions](## Import de fonctions)\n",
    "### 2 - [Utilisation des librairies](## Utilisation des librairies)\n",
    "* #### _[Exercice 1](## Exercice 1)_\n",
    "\n",
    "### 3 - [Documentation des fonctions](## Documentation des fonctions)\n",
    "* #### _[Exercice 2](## Exercice 2)_\n",
    "\n",
    "### 4 - [Les types de données](## Les types de données)\n",
    "* #### _[Exercice 3](## Exercice 3)_\n",
    "\n",
    "### 5 - [Les séquences de données](## Les séquences de données)\n",
    "* #### _[Exercice 4](## Exercice 4)_\n",
    "\n"
   ]
  },
  {
   "cell_type": "markdown",
   "metadata": {
    "slideshow": {
     "slide_type": "slide"
    }
   },
   "source": [
    "## 1 - Import de fonctions <a class=\"anchor\" id=\"Import de fonctions\"></a>\n",
    "\n",
    "La manière la plus simple d'importer une librairie est d'utiliser le mot clé `import`:"
   ]
  },
  {
   "cell_type": "code",
   "execution_count": 1,
   "metadata": {
    "collapsed": true,
    "slideshow": {
     "slide_type": "fragment"
    }
   },
   "outputs": [],
   "source": [
    "import numpy"
   ]
  },
  {
   "cell_type": "markdown",
   "metadata": {
    "slideshow": {
     "slide_type": "subslide"
    }
   },
   "source": [
    "On peut aussi attribuer une abréviation à la librairie que l'on importe. Cela permet d'appeler les fonctions contenues dans cette librairie de manière plus concise."
   ]
  },
  {
   "cell_type": "code",
   "execution_count": 3,
   "metadata": {
    "collapsed": false,
    "slideshow": {
     "slide_type": "fragment"
    }
   },
   "outputs": [
    {
     "data": {
      "text/plain": [
       "3"
      ]
     },
     "execution_count": 3,
     "metadata": {},
     "output_type": "execute_result"
    }
   ],
   "source": [
    "import numpy as np\n",
    "\n",
    "np.sum([1,1,1])"
   ]
  },
  {
   "cell_type": "markdown",
   "metadata": {
    "slideshow": {
     "slide_type": "slide"
    }
   },
   "source": [
    "## 2 - Utilisation des librairies <a class=\"anchor\" id=\"Utilisation des librairies\"></a>\n",
    "\n",
    "Une librairie regroupe des fonctions. La liste des fonctions contenues dans cette librairie peut être visualisée en tapant **`.`** puis **`tab`**"
   ]
  },
  {
   "cell_type": "markdown",
   "metadata": {
    "slideshow": {
     "slide_type": "fragment"
    }
   },
   "source": [
    "![Recherche de fonctions](images/recherche_fonctions.png)"
   ]
  },
  {
   "cell_type": "markdown",
   "metadata": {
    "slideshow": {
     "slide_type": "subslide"
    }
   },
   "source": [
    "### _ Exercice 1_ <a class=\"anchor\" id=\"Exercice 1\"></a>\n",
    "\n",
    "Trouver la fonction somme."
   ]
  },
  {
   "cell_type": "code",
   "execution_count": null,
   "metadata": {
    "collapsed": true,
    "slideshow": {
     "slide_type": "fragment"
    }
   },
   "outputs": [],
   "source": [
    "np."
   ]
  },
  {
   "cell_type": "markdown",
   "metadata": {
    "slideshow": {
     "slide_type": "slide"
    }
   },
   "source": [
    "## 3 - Documentation des fonctions <a class=\"anchor\" id=\"Documentation des fonctions\"></a>\n",
    "\n",
    "Il existe une manière rapide de lire la description d'une fonction. Le code source de chaque fonction contient des commentaires qui sont lisible grâce au point d'interrogation `?`."
   ]
  },
  {
   "cell_type": "code",
   "execution_count": 4,
   "metadata": {
    "collapsed": true,
    "slideshow": {
     "slide_type": "fragment"
    }
   },
   "outputs": [],
   "source": [
    "range?"
   ]
  },
  {
   "cell_type": "markdown",
   "metadata": {
    "slideshow": {
     "slide_type": "fragment"
    }
   },
   "source": [
    "### _ Exercice 2_ <a class=\"anchor\" id=\"Exercice 1\"></a>\n",
    "\n",
    "Lire la description de la fonction range et tester l'utilisation de cette fonction à partir de cette description."
   ]
  },
  {
   "cell_type": "code",
   "execution_count": null,
   "metadata": {
    "collapsed": true,
    "slideshow": {
     "slide_type": "fragment"
    }
   },
   "outputs": [],
   "source": [
    "range()"
   ]
  },
  {
   "cell_type": "markdown",
   "metadata": {
    "slideshow": {
     "slide_type": "slide"
    }
   },
   "source": [
    "## 4 - Les types de données <a class=\"anchor\" id=\"Les types de données\"></a>\n",
    "\n",
    "* None :  la valeur nulle\n",
    "* bool : Une valeur booleene pouvant être `True` ou u`False`\n",
    "* int : Un entier entre -2^32 et 2^32-1\n",
    "* float : Un nombre décimal\n",
    "* str : Une chaine de charactères\n",
    "\n",
    "On peut convertir un type de donnée vers un autre (**cast**):\n"
   ]
  },
  {
   "cell_type": "code",
   "execution_count": 13,
   "metadata": {
    "collapsed": false,
    "slideshow": {
     "slide_type": "subslide"
    }
   },
   "outputs": [
    {
     "data": {
      "text/plain": [
       "True"
      ]
     },
     "execution_count": 13,
     "metadata": {},
     "output_type": "execute_result"
    }
   ],
   "source": [
    "bool(2)"
   ]
  },
  {
   "cell_type": "code",
   "execution_count": 14,
   "metadata": {
    "collapsed": false,
    "slideshow": {
     "slide_type": "-"
    }
   },
   "outputs": [
    {
     "data": {
      "text/plain": [
       "False"
      ]
     },
     "execution_count": 14,
     "metadata": {},
     "output_type": "execute_result"
    }
   ],
   "source": [
    "bool(0)"
   ]
  },
  {
   "cell_type": "code",
   "execution_count": 51,
   "metadata": {
    "collapsed": false
   },
   "outputs": [
    {
     "data": {
      "text/plain": [
       "False"
      ]
     },
     "execution_count": 51,
     "metadata": {},
     "output_type": "execute_result"
    }
   ],
   "source": [
    "# comparaisons\n",
    "1 == 2"
   ]
  },
  {
   "cell_type": "code",
   "execution_count": 52,
   "metadata": {
    "collapsed": false
   },
   "outputs": [
    {
     "data": {
      "text/plain": [
       "True"
      ]
     },
     "execution_count": 52,
     "metadata": {},
     "output_type": "execute_result"
    }
   ],
   "source": [
    "# negation\n",
    "not bool(0)"
   ]
  },
  {
   "cell_type": "markdown",
   "metadata": {
    "slideshow": {
     "slide_type": "subslide"
    }
   },
   "source": [
    "### _ Exercice 3_ <a class=\"anchor\" id=\"Exercice 3\"></a>\n",
    "Trouver le résultat de la division de 1 par 3."
   ]
  },
  {
   "cell_type": "markdown",
   "metadata": {
    "slideshow": {
     "slide_type": "slide"
    }
   },
   "source": [
    "## 5 - Les séquences de données <a class=\"anchor\" id=\"Les séquences de données\"></a>\n",
    "\n",
    "* list : Stockage d'une liste d'éléments. Son constructeur peut être `list()`ou `[]`\n",
    "* tuples : Stockage d'association d'éléments. Son construteur est `tuple()` ou `(,)` pour une paire\n",
    "* set : Stockage d'éléments uniques non ordonnés. Son constructeur est `set()`\n",
    "* dict : Un dictionnaire de clé - valeurs non ordonné. Son constructeur est `dict()`"
   ]
  },
  {
   "cell_type": "code",
   "execution_count": 17,
   "metadata": {
    "collapsed": false,
    "slideshow": {
     "slide_type": "subslide"
    }
   },
   "outputs": [
    {
     "data": {
      "text/plain": [
       "True"
      ]
     },
     "execution_count": 17,
     "metadata": {},
     "output_type": "execute_result"
    }
   ],
   "source": [
    "# Quelques méthodes utiles\n",
    "2 in [1,2,3]"
   ]
  },
  {
   "cell_type": "code",
   "execution_count": 18,
   "metadata": {
    "collapsed": false,
    "slideshow": {
     "slide_type": "-"
    }
   },
   "outputs": [
    {
     "data": {
      "text/plain": [
       "True"
      ]
     },
     "execution_count": 18,
     "metadata": {},
     "output_type": "execute_result"
    }
   ],
   "source": [
    "0 not in [1,2,3]"
   ]
  },
  {
   "cell_type": "code",
   "execution_count": 36,
   "metadata": {
    "collapsed": false,
    "slideshow": {
     "slide_type": "-"
    }
   },
   "outputs": [
    {
     "data": {
      "text/plain": [
       "1"
      ]
     },
     "execution_count": 36,
     "metadata": {},
     "output_type": "execute_result"
    }
   ],
   "source": [
    "# les slices de list\n",
    "a = [1,2,3]\n",
    "\n",
    "#l'indice du premier élément est zero\n",
    "a[0]"
   ]
  },
  {
   "cell_type": "code",
   "execution_count": 37,
   "metadata": {
    "collapsed": false,
    "slideshow": {
     "slide_type": "-"
    }
   },
   "outputs": [
    {
     "data": {
      "text/plain": [
       "[2, 3]"
      ]
     },
     "execution_count": 37,
     "metadata": {},
     "output_type": "execute_result"
    }
   ],
   "source": [
    "# Les éléménets d'une liste entre l'indice 1 et la fin de la liste\n",
    "a[1:]"
   ]
  },
  {
   "cell_type": "code",
   "execution_count": 38,
   "metadata": {
    "collapsed": false,
    "slideshow": {
     "slide_type": "-"
    }
   },
   "outputs": [
    {
     "data": {
      "text/plain": [
       "[1, 2]"
      ]
     },
     "execution_count": 38,
     "metadata": {},
     "output_type": "execute_result"
    }
   ],
   "source": [
    "# Les éléments de la liste entre le début de la liste et l'indice 2 non inclus\n",
    "a[:2]"
   ]
  },
  {
   "cell_type": "code",
   "execution_count": 39,
   "metadata": {
    "collapsed": false,
    "slideshow": {
     "slide_type": "subslide"
    }
   },
   "outputs": [
    {
     "data": {
      "text/plain": [
       "3"
      ]
     },
     "execution_count": 39,
     "metadata": {},
     "output_type": "execute_result"
    }
   ],
   "source": [
    "# longueur d'une liste\n",
    "len(a)"
   ]
  },
  {
   "cell_type": "code",
   "execution_count": 40,
   "metadata": {
    "collapsed": false,
    "slideshow": {
     "slide_type": "-"
    }
   },
   "outputs": [
    {
     "data": {
      "text/plain": [
       "[1, 2, 3, 'quatre']"
      ]
     },
     "execution_count": 40,
     "metadata": {},
     "output_type": "execute_result"
    }
   ],
   "source": [
    "# Ajouter des éléments a une liste\n",
    "a.append(\"quatre\")\n",
    "a"
   ]
  },
  {
   "cell_type": "code",
   "execution_count": 41,
   "metadata": {
    "collapsed": false,
    "slideshow": {
     "slide_type": "-"
    }
   },
   "outputs": [
    {
     "name": "stdout",
     "output_type": "stream",
     "text": [
      "1\n",
      "2\n",
      "3\n",
      "quatre\n"
     ]
    }
   ],
   "source": [
    "# itération sur une liste\n",
    "for element in a:\n",
    "    print element"
   ]
  },
  {
   "cell_type": "code",
   "execution_count": 43,
   "metadata": {
    "collapsed": false,
    "slideshow": {
     "slide_type": "-"
    }
   },
   "outputs": [
    {
     "data": {
      "text/plain": [
       "[2, 4, 6, 'quatrequatre']"
      ]
     },
     "execution_count": 43,
     "metadata": {},
     "output_type": "execute_result"
    }
   ],
   "source": [
    "# list comprehension\n",
    "[element*2 for element in a]"
   ]
  },
  {
   "cell_type": "markdown",
   "metadata": {
    "slideshow": {
     "slide_type": "subslide"
    }
   },
   "source": [
    "### _ Exercice 4_ <a class=\"anchor\" id=\"Exercice 4\"></a>\n",
    "* Créer une matrice a deux dimensions avec des list\n",
    "* remplire sa diagonale 0,0 à fin,fin avec la valeur 1 et le reste avec la valeur 0\n",
    "* convertir les éléments de la table en bool\n",
    "\n",
    "Vous avez besoin de la fonction d'itération:\n",
    "```python\n",
    "for x in range(int):\n",
    "    execution\n",
    "```\n",
    "d'une condition:\n",
    "\n",
    "```python\n",
    "if (condition_retournant_un_bool):\n",
    "    execution\n",
    "```"
   ]
  },
  {
   "cell_type": "code",
   "execution_count": null,
   "metadata": {
    "collapsed": true
   },
   "outputs": [],
   "source": []
  }
 ],
 "metadata": {
  "celltoolbar": "Slideshow",
  "kernelspec": {
   "display_name": "Python 2",
   "language": "python",
   "name": "python2"
  },
  "language_info": {
   "codemirror_mode": {
    "name": "ipython",
    "version": 2
   },
   "file_extension": ".py",
   "mimetype": "text/x-python",
   "name": "python",
   "nbconvert_exporter": "python",
   "pygments_lexer": "ipython2",
   "version": "2.7.11"
  }
 },
 "nbformat": 4,
 "nbformat_minor": 0
}
