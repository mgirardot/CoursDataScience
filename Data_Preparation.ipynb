{
 "cells": [
  {
   "cell_type": "markdown",
   "metadata": {},
   "source": [
    "# Data Preparation\n",
    "\n",
    "## Sommaire\n",
    "-------------------\n",
    "\n",
    "### 1 - [Pandas DataFrame](## Pandas DataFrame)\n",
    "* #### _[Exercice 1](## Exercice 1)_\n",
    "* #### _[Exercice 2](## Exercice 2)_\n",
    "\n",
    "### 2 - [Manipulation des DataFrames](## Manipulation des DataFrames)\n",
    "* #### _[Sélection de colonnes](## Sélection de colonnes)_\n",
    "* #### _[Sélection de lignes](## Dates)_\n",
    "\n",
    "### 3 - [Mise en forme des données](## Mise en forme des données)\n",
    "* #### _[Texte Unicode](## Texte Unicode)_\n",
    "* #### _[Dates](## Dates)_\n",
    "* #### _[Nettoyage de texte](## Nettoyage de texte)_\n",
    "* #### _[Exercice 3](## Exercice 3)_\n",
    "* #### _[Exercice 4](## Exercice 4)_\n",
    "* #### _[One hot encoding](## One hot encoding)_\n",
    "* #### _[Expressions Régulières](## Expressions Régulières)_\n",
    "* #### _[Exercice 5](## Exercice 5)_\n",
    "\n",
    "-------------------"
   ]
  },
  {
   "cell_type": "markdown",
   "metadata": {},
   "source": [
    "## 1 - Pandas DataFrame <a class=\"anchor\" id=\"Pandas DataFrame\"></a>\n",
    "\n",
    "La librairie ** Pandas ** permet de stocker des données structurées. De nombreuses fonctions utilitaires sont disponible pour la manipulation des tables."
   ]
  },
  {
   "cell_type": "code",
   "execution_count": 1,
   "metadata": {
    "collapsed": true
   },
   "outputs": [],
   "source": [
    "import pandas as pd"
   ]
  },
  {
   "cell_type": "markdown",
   "metadata": {},
   "source": [
    "Les données à parir d'une feuille Excel peuvent être importées grâce à la fonction `read_excel()`.\n",
    "\n",
    "--------------------\n",
    "\n",
    "### _ Exercice 1_ <a class=\"anchor\" id=\"Exercice 1\"></a>\n",
    "\n",
    "Importer les données `best_selling_models.xlsx` de l'année 2010.\n",
    "\n",
    "---------------------"
   ]
  },
  {
   "cell_type": "markdown",
   "metadata": {},
   "source": [
    "La fonction `read_csv()` est la plus courramment utilisée pour importer des données."
   ]
  },
  {
   "cell_type": "code",
   "execution_count": 2,
   "metadata": {
    "collapsed": true
   },
   "outputs": [],
   "source": [
    "carsdata = pd.read_csv(\"data/carsdata_features.csv\", sep=\",\")"
   ]
  },
  {
   "cell_type": "markdown",
   "metadata": {},
   "source": [
    "On peut visualiser le début et la fin d'une table grâce aux fonctions `.head()`et `.tail()` bien connue des utilisateurs Unix. Le nombre de lignes à affichier est paramétrable grâce à `n=`."
   ]
  },
  {
   "cell_type": "markdown",
   "metadata": {},
   "source": [
    "\n",
    "--------------------\n",
    "\n",
    "### _ Exercice 2_ <a class=\"anchor\" id=\"Exercice 2\"></a>\n",
    "\n",
    "Visualiser les 10 premières lignes de la table ** `carsdata` **.\n",
    "\n",
    "---------------------"
   ]
  },
  {
   "cell_type": "markdown",
   "metadata": {},
   "source": [
    "Un autre moyen d'analyser le contenu d'une table est de lire les statistiques descriptives de chaque colonne avec la fonction `describe()`."
   ]
  },
  {
   "cell_type": "code",
   "execution_count": 3,
   "metadata": {
    "collapsed": false
   },
   "outputs": [
    {
     "data": {
      "text/html": [
       "<div>\n",
       "<table border=\"1\" class=\"dataframe\">\n",
       "  <thead>\n",
       "    <tr style=\"text-align: right;\">\n",
       "      <th></th>\n",
       "      <th>NO_ABS</th>\n",
       "      <th>NO_accoudoir_central</th>\n",
       "      <th>NO_airbag_conducteur</th>\n",
       "      <th>NO_airbag_lateraux</th>\n",
       "      <th>NO_airbag_passager</th>\n",
       "      <th>NO_airbag_tete_rideau</th>\n",
       "      <th>alesage_mm</th>\n",
       "      <th>course_piston_mm</th>\n",
       "      <th>NO_allumage_auto_feux</th>\n",
       "      <th>NO_antipatinage</th>\n",
       "      <th>...</th>\n",
       "      <th>vitesse_max</th>\n",
       "      <th>NO_vitres_electriques</th>\n",
       "      <th>NO_vitres_teintees</th>\n",
       "      <th>voie_arriere</th>\n",
       "      <th>voie_avant</th>\n",
       "      <th>NO_volant_cuir</th>\n",
       "      <th>NO_volant_reglable</th>\n",
       "      <th>volume_coffre_min</th>\n",
       "      <th>volume_coffre_max</th>\n",
       "      <th>zero_100</th>\n",
       "    </tr>\n",
       "  </thead>\n",
       "  <tbody>\n",
       "    <tr>\n",
       "      <th>count</th>\n",
       "      <td>64553.000000</td>\n",
       "      <td>64553.000000</td>\n",
       "      <td>64553.000000</td>\n",
       "      <td>64553.000000</td>\n",
       "      <td>64553.000000</td>\n",
       "      <td>64553.000000</td>\n",
       "      <td>63116.000000</td>\n",
       "      <td>63116.000000</td>\n",
       "      <td>64553.000000</td>\n",
       "      <td>64553.000000</td>\n",
       "      <td>...</td>\n",
       "      <td>63142.000000</td>\n",
       "      <td>64553.000000</td>\n",
       "      <td>64553.000000</td>\n",
       "      <td>63883.000000</td>\n",
       "      <td>63883.000000</td>\n",
       "      <td>64553.000000</td>\n",
       "      <td>64553.000000</td>\n",
       "      <td>63601.000000</td>\n",
       "      <td>50167.000000</td>\n",
       "      <td>62103.000000</td>\n",
       "    </tr>\n",
       "    <tr>\n",
       "      <th>mean</th>\n",
       "      <td>0.113023</td>\n",
       "      <td>0.356947</td>\n",
       "      <td>0.114789</td>\n",
       "      <td>0.209254</td>\n",
       "      <td>0.135749</td>\n",
       "      <td>0.338962</td>\n",
       "      <td>80.893947</td>\n",
       "      <td>85.447940</td>\n",
       "      <td>0.626555</td>\n",
       "      <td>0.374498</td>\n",
       "      <td>...</td>\n",
       "      <td>196.260381</td>\n",
       "      <td>0.120723</td>\n",
       "      <td>0.066736</td>\n",
       "      <td>1504.042500</td>\n",
       "      <td>1508.237058</td>\n",
       "      <td>0.373166</td>\n",
       "      <td>0.153316</td>\n",
       "      <td>458.788635</td>\n",
       "      <td>1335.996532</td>\n",
       "      <td>10.913672</td>\n",
       "    </tr>\n",
       "    <tr>\n",
       "      <th>std</th>\n",
       "      <td>0.316624</td>\n",
       "      <td>0.479103</td>\n",
       "      <td>0.318770</td>\n",
       "      <td>0.406780</td>\n",
       "      <td>0.342524</td>\n",
       "      <td>0.473361</td>\n",
       "      <td>5.256816</td>\n",
       "      <td>7.126757</td>\n",
       "      <td>0.483723</td>\n",
       "      <td>0.483997</td>\n",
       "      <td>...</td>\n",
       "      <td>26.773986</td>\n",
       "      <td>0.325807</td>\n",
       "      <td>0.249566</td>\n",
       "      <td>70.235166</td>\n",
       "      <td>67.984290</td>\n",
       "      <td>0.483649</td>\n",
       "      <td>0.360295</td>\n",
       "      <td>456.495450</td>\n",
       "      <td>489.411897</td>\n",
       "      <td>2.854191</td>\n",
       "    </tr>\n",
       "    <tr>\n",
       "      <th>min</th>\n",
       "      <td>0.000000</td>\n",
       "      <td>0.000000</td>\n",
       "      <td>0.000000</td>\n",
       "      <td>0.000000</td>\n",
       "      <td>0.000000</td>\n",
       "      <td>0.000000</td>\n",
       "      <td>58.000000</td>\n",
       "      <td>55.000000</td>\n",
       "      <td>0.000000</td>\n",
       "      <td>0.000000</td>\n",
       "      <td>...</td>\n",
       "      <td>80.000000</td>\n",
       "      <td>0.000000</td>\n",
       "      <td>0.000000</td>\n",
       "      <td>1080.000000</td>\n",
       "      <td>140.000000</td>\n",
       "      <td>0.000000</td>\n",
       "      <td>0.000000</td>\n",
       "      <td>31.000000</td>\n",
       "      <td>145.000000</td>\n",
       "      <td>2.700000</td>\n",
       "    </tr>\n",
       "    <tr>\n",
       "      <th>25%</th>\n",
       "      <td>0.000000</td>\n",
       "      <td>0.000000</td>\n",
       "      <td>0.000000</td>\n",
       "      <td>0.000000</td>\n",
       "      <td>0.000000</td>\n",
       "      <td>0.000000</td>\n",
       "      <td>77.000000</td>\n",
       "      <td>80.500000</td>\n",
       "      <td>0.000000</td>\n",
       "      <td>0.000000</td>\n",
       "      <td>...</td>\n",
       "      <td>177.000000</td>\n",
       "      <td>0.000000</td>\n",
       "      <td>0.000000</td>\n",
       "      <td>1461.000000</td>\n",
       "      <td>1465.000000</td>\n",
       "      <td>0.000000</td>\n",
       "      <td>0.000000</td>\n",
       "      <td>335.000000</td>\n",
       "      <td>1032.000000</td>\n",
       "      <td>9.000000</td>\n",
       "    </tr>\n",
       "    <tr>\n",
       "      <th>50%</th>\n",
       "      <td>0.000000</td>\n",
       "      <td>0.000000</td>\n",
       "      <td>0.000000</td>\n",
       "      <td>0.000000</td>\n",
       "      <td>0.000000</td>\n",
       "      <td>0.000000</td>\n",
       "      <td>81.000000</td>\n",
       "      <td>86.000000</td>\n",
       "      <td>1.000000</td>\n",
       "      <td>0.000000</td>\n",
       "      <td>...</td>\n",
       "      <td>194.000000</td>\n",
       "      <td>0.000000</td>\n",
       "      <td>0.000000</td>\n",
       "      <td>1513.000000</td>\n",
       "      <td>1518.000000</td>\n",
       "      <td>0.000000</td>\n",
       "      <td>0.000000</td>\n",
       "      <td>435.000000</td>\n",
       "      <td>1283.000000</td>\n",
       "      <td>10.800000</td>\n",
       "    </tr>\n",
       "    <tr>\n",
       "      <th>75%</th>\n",
       "      <td>0.000000</td>\n",
       "      <td>1.000000</td>\n",
       "      <td>0.000000</td>\n",
       "      <td>0.000000</td>\n",
       "      <td>0.000000</td>\n",
       "      <td>1.000000</td>\n",
       "      <td>84.000000</td>\n",
       "      <td>90.400000</td>\n",
       "      <td>1.000000</td>\n",
       "      <td>1.000000</td>\n",
       "      <td>...</td>\n",
       "      <td>213.000000</td>\n",
       "      <td>0.000000</td>\n",
       "      <td>0.000000</td>\n",
       "      <td>1551.000000</td>\n",
       "      <td>1549.000000</td>\n",
       "      <td>1.000000</td>\n",
       "      <td>0.000000</td>\n",
       "      <td>500.000000</td>\n",
       "      <td>1584.000000</td>\n",
       "      <td>12.500000</td>\n",
       "    </tr>\n",
       "    <tr>\n",
       "      <th>max</th>\n",
       "      <td>1.000000</td>\n",
       "      <td>1.000000</td>\n",
       "      <td>1.000000</td>\n",
       "      <td>1.000000</td>\n",
       "      <td>1.000000</td>\n",
       "      <td>1.000000</td>\n",
       "      <td>104.800000</td>\n",
       "      <td>105.700000</td>\n",
       "      <td>1.000000</td>\n",
       "      <td>1.000000</td>\n",
       "      <td>...</td>\n",
       "      <td>330.000000</td>\n",
       "      <td>1.000000</td>\n",
       "      <td>1.000000</td>\n",
       "      <td>1790.000000</td>\n",
       "      <td>1810.000000</td>\n",
       "      <td>1.000000</td>\n",
       "      <td>1.000000</td>\n",
       "      <td>10800.000000</td>\n",
       "      <td>4650.000000</td>\n",
       "      <td>35.000000</td>\n",
       "    </tr>\n",
       "  </tbody>\n",
       "</table>\n",
       "<p>8 rows × 187 columns</p>\n",
       "</div>"
      ],
      "text/plain": [
       "             NO_ABS  NO_accoudoir_central  NO_airbag_conducteur  \\\n",
       "count  64553.000000          64553.000000          64553.000000   \n",
       "mean       0.113023              0.356947              0.114789   \n",
       "std        0.316624              0.479103              0.318770   \n",
       "min        0.000000              0.000000              0.000000   \n",
       "25%        0.000000              0.000000              0.000000   \n",
       "50%        0.000000              0.000000              0.000000   \n",
       "75%        0.000000              1.000000              0.000000   \n",
       "max        1.000000              1.000000              1.000000   \n",
       "\n",
       "       NO_airbag_lateraux  NO_airbag_passager  NO_airbag_tete_rideau  \\\n",
       "count        64553.000000        64553.000000           64553.000000   \n",
       "mean             0.209254            0.135749               0.338962   \n",
       "std              0.406780            0.342524               0.473361   \n",
       "min              0.000000            0.000000               0.000000   \n",
       "25%              0.000000            0.000000               0.000000   \n",
       "50%              0.000000            0.000000               0.000000   \n",
       "75%              0.000000            0.000000               1.000000   \n",
       "max              1.000000            1.000000               1.000000   \n",
       "\n",
       "         alesage_mm  course_piston_mm  NO_allumage_auto_feux  NO_antipatinage  \\\n",
       "count  63116.000000      63116.000000           64553.000000     64553.000000   \n",
       "mean      80.893947         85.447940               0.626555         0.374498   \n",
       "std        5.256816          7.126757               0.483723         0.483997   \n",
       "min       58.000000         55.000000               0.000000         0.000000   \n",
       "25%       77.000000         80.500000               0.000000         0.000000   \n",
       "50%       81.000000         86.000000               1.000000         0.000000   \n",
       "75%       84.000000         90.400000               1.000000         1.000000   \n",
       "max      104.800000        105.700000               1.000000         1.000000   \n",
       "\n",
       "           ...        vitesse_max  NO_vitres_electriques  NO_vitres_teintees  \\\n",
       "count      ...       63142.000000           64553.000000        64553.000000   \n",
       "mean       ...         196.260381               0.120723            0.066736   \n",
       "std        ...          26.773986               0.325807            0.249566   \n",
       "min        ...          80.000000               0.000000            0.000000   \n",
       "25%        ...         177.000000               0.000000            0.000000   \n",
       "50%        ...         194.000000               0.000000            0.000000   \n",
       "75%        ...         213.000000               0.000000            0.000000   \n",
       "max        ...         330.000000               1.000000            1.000000   \n",
       "\n",
       "       voie_arriere    voie_avant  NO_volant_cuir  NO_volant_reglable  \\\n",
       "count  63883.000000  63883.000000    64553.000000        64553.000000   \n",
       "mean    1504.042500   1508.237058        0.373166            0.153316   \n",
       "std       70.235166     67.984290        0.483649            0.360295   \n",
       "min     1080.000000    140.000000        0.000000            0.000000   \n",
       "25%     1461.000000   1465.000000        0.000000            0.000000   \n",
       "50%     1513.000000   1518.000000        0.000000            0.000000   \n",
       "75%     1551.000000   1549.000000        1.000000            0.000000   \n",
       "max     1790.000000   1810.000000        1.000000            1.000000   \n",
       "\n",
       "       volume_coffre_min  volume_coffre_max      zero_100  \n",
       "count       63601.000000       50167.000000  62103.000000  \n",
       "mean          458.788635        1335.996532     10.913672  \n",
       "std           456.495450         489.411897      2.854191  \n",
       "min            31.000000         145.000000      2.700000  \n",
       "25%           335.000000        1032.000000      9.000000  \n",
       "50%           435.000000        1283.000000     10.800000  \n",
       "75%           500.000000        1584.000000     12.500000  \n",
       "max         10800.000000        4650.000000     35.000000  \n",
       "\n",
       "[8 rows x 187 columns]"
      ]
     },
     "execution_count": 3,
     "metadata": {},
     "output_type": "execute_result"
    }
   ],
   "source": [
    "carsdata.describe()"
   ]
  },
  {
   "cell_type": "markdown",
   "metadata": {},
   "source": [
    "## 2- Manipulation des DataFrames <a class=\"anchor\" id=\"Manipulation des DataFrames\"></a>\n",
    "\n",
    "###  Sélection de colonnes"
   ]
  },
  {
   "cell_type": "code",
   "execution_count": 4,
   "metadata": {
    "collapsed": false
   },
   "outputs": [
    {
     "data": {
      "text/plain": [
       "0    0\n",
       "1    0\n",
       "2    0\n",
       "3    0\n",
       "4    0\n",
       "Name: NO_ABS, dtype: int64"
      ]
     },
     "execution_count": 4,
     "metadata": {},
     "output_type": "execute_result"
    }
   ],
   "source": [
    "carsdata.NO_ABS.head()"
   ]
  },
  {
   "cell_type": "code",
   "execution_count": 5,
   "metadata": {
    "collapsed": false
   },
   "outputs": [
    {
     "data": {
      "text/plain": [
       "0    0\n",
       "1    0\n",
       "2    0\n",
       "3    0\n",
       "4    0\n",
       "Name: NO_ABS, dtype: int64"
      ]
     },
     "execution_count": 5,
     "metadata": {},
     "output_type": "execute_result"
    }
   ],
   "source": [
    "carsdata[\"NO_ABS\"].head()"
   ]
  },
  {
   "cell_type": "code",
   "execution_count": 6,
   "metadata": {
    "collapsed": false
   },
   "outputs": [
    {
     "data": {
      "text/plain": [
       "0    0\n",
       "1    0\n",
       "2    0\n",
       "3    0\n",
       "4    0\n",
       "Name: NO_ABS, dtype: int64"
      ]
     },
     "execution_count": 6,
     "metadata": {},
     "output_type": "execute_result"
    }
   ],
   "source": [
    "# Sélection de position par un int\n",
    "carsdata.iloc[:,0].head()"
   ]
  },
  {
   "cell_type": "code",
   "execution_count": 7,
   "metadata": {
    "collapsed": false
   },
   "outputs": [
    {
     "data": {
      "text/plain": [
       "0    0\n",
       "1    0\n",
       "2    0\n",
       "3    0\n",
       "4    0\n",
       "Name: NO_ABS, dtype: int64"
      ]
     },
     "execution_count": 7,
     "metadata": {},
     "output_type": "execute_result"
    }
   ],
   "source": [
    "# Sélection de position par label\n",
    "carsdata.loc[:,\"NO_ABS\"].head()"
   ]
  },
  {
   "cell_type": "code",
   "execution_count": 8,
   "metadata": {
    "collapsed": false
   },
   "outputs": [
    {
     "data": {
      "text/plain": [
       "0    0\n",
       "1    0\n",
       "2    0\n",
       "3    0\n",
       "4    0\n",
       "Name: NO_ABS, dtype: int64"
      ]
     },
     "execution_count": 8,
     "metadata": {},
     "output_type": "execute_result"
    }
   ],
   "source": [
    "# Sélection de position par un int\n",
    "carsdata.ix[:,0].head()"
   ]
  },
  {
   "cell_type": "code",
   "execution_count": 9,
   "metadata": {
    "collapsed": false
   },
   "outputs": [
    {
     "data": {
      "text/plain": [
       "0    0\n",
       "1    0\n",
       "2    0\n",
       "3    0\n",
       "4    0\n",
       "Name: NO_ABS, dtype: int64"
      ]
     },
     "execution_count": 9,
     "metadata": {},
     "output_type": "execute_result"
    }
   ],
   "source": [
    "# Sélection de position par un label\n",
    "carsdata.ix[:,\"NO_ABS\"].head()"
   ]
  },
  {
   "cell_type": "markdown",
   "metadata": {},
   "source": [
    "### Sélection de lignes"
   ]
  },
  {
   "cell_type": "code",
   "execution_count": 10,
   "metadata": {
    "collapsed": false
   },
   "outputs": [
    {
     "data": {
      "text/html": [
       "<div>\n",
       "<table border=\"1\" class=\"dataframe\">\n",
       "  <thead>\n",
       "    <tr style=\"text-align: right;\">\n",
       "      <th></th>\n",
       "      <th>NO_ABS</th>\n",
       "      <th>NO_accoudoir_central</th>\n",
       "      <th>NO_airbag_conducteur</th>\n",
       "      <th>NO_airbag_lateraux</th>\n",
       "      <th>NO_airbag_passager</th>\n",
       "      <th>NO_airbag_tete_rideau</th>\n",
       "      <th>alesage_mm</th>\n",
       "      <th>course_piston_mm</th>\n",
       "      <th>NO_allumage_auto_feux</th>\n",
       "      <th>NO_antipatinage</th>\n",
       "      <th>...</th>\n",
       "      <th>vitesse_max</th>\n",
       "      <th>NO_vitres_electriques</th>\n",
       "      <th>NO_vitres_teintees</th>\n",
       "      <th>voie_arriere</th>\n",
       "      <th>voie_avant</th>\n",
       "      <th>NO_volant_cuir</th>\n",
       "      <th>NO_volant_reglable</th>\n",
       "      <th>volume_coffre_min</th>\n",
       "      <th>volume_coffre_max</th>\n",
       "      <th>zero_100</th>\n",
       "    </tr>\n",
       "  </thead>\n",
       "  <tbody>\n",
       "    <tr>\n",
       "      <th>0</th>\n",
       "      <td>0</td>\n",
       "      <td>1</td>\n",
       "      <td>0</td>\n",
       "      <td>0</td>\n",
       "      <td>0</td>\n",
       "      <td>0</td>\n",
       "      <td>86.0</td>\n",
       "      <td>86.0</td>\n",
       "      <td>1</td>\n",
       "      <td>0</td>\n",
       "      <td>...</td>\n",
       "      <td>220.0</td>\n",
       "      <td>0</td>\n",
       "      <td>0</td>\n",
       "      <td>1479.0</td>\n",
       "      <td>1462.0</td>\n",
       "      <td>0</td>\n",
       "      <td>0</td>\n",
       "      <td>150.0</td>\n",
       "      <td>1700.0</td>\n",
       "      <td>8.2</td>\n",
       "    </tr>\n",
       "  </tbody>\n",
       "</table>\n",
       "<p>1 rows × 190 columns</p>\n",
       "</div>"
      ],
      "text/plain": [
       "   NO_ABS  NO_accoudoir_central  NO_airbag_conducteur  NO_airbag_lateraux  \\\n",
       "0       0                     1                     0                   0   \n",
       "\n",
       "   NO_airbag_passager  NO_airbag_tete_rideau  alesage_mm  course_piston_mm  \\\n",
       "0                   0                      0        86.0              86.0   \n",
       "\n",
       "   NO_allumage_auto_feux  NO_antipatinage    ...     vitesse_max  \\\n",
       "0                      1                0    ...           220.0   \n",
       "\n",
       "   NO_vitres_electriques  NO_vitres_teintees  voie_arriere  voie_avant  \\\n",
       "0                      0                   0        1479.0      1462.0   \n",
       "\n",
       "   NO_volant_cuir  NO_volant_reglable  volume_coffre_min  volume_coffre_max  \\\n",
       "0               0                   0              150.0             1700.0   \n",
       "\n",
       "   zero_100  \n",
       "0       8.2  \n",
       "\n",
       "[1 rows x 190 columns]"
      ]
     },
     "execution_count": 10,
     "metadata": {},
     "output_type": "execute_result"
    }
   ],
   "source": [
    "carsdata[:1]"
   ]
  },
  {
   "cell_type": "code",
   "execution_count": 11,
   "metadata": {
    "collapsed": false,
    "scrolled": true
   },
   "outputs": [
    {
     "data": {
      "text/plain": [
       "NO_ABS                                        0\n",
       "NO_accoudoir_central                          1\n",
       "NO_airbag_conducteur                          0\n",
       "NO_airbag_lateraux                            0\n",
       "NO_airbag_passager                            0\n",
       "NO_airbag_tete_rideau                         0\n",
       "alesage_mm                                   86\n",
       "course_piston_mm                             86\n",
       "NO_allumage_auto_feux                         1\n",
       "NO_antipatinage                               0\n",
       "NO_appuis_tete_arriere                        0\n",
       "NO_assistant_freinage                         1\n",
       "NO_banquette_arriere_rabattable               0\n",
       "NO_blocage_differentiel                       1\n",
       "NO_bluetooth                                  1\n",
       "capacite_charge_max_kg                      625\n",
       "capacite_moteur_cc                         1998\n",
       "NO_capteur_stationnement                      0\n",
       "NO_capteur_temp_liquide_refroidissement       0\n",
       "LPG_carburant                                 0\n",
       "bio_ethanol_carburant                         0\n",
       "diesel_carburant                              0\n",
       "natural_gas_carburant                         0\n",
       "catalyseur_onregular                          0\n",
       "catalyseur_part_filter                        0\n",
       "catalyseur_egular                             1\n",
       "No_clim_bizone                                1\n",
       "NO_climatisation                              0\n",
       "NO_commande_audio_volant                      0\n",
       "compteur_jours                                1\n",
       "                                           ... \n",
       "twincharger                                   0\n",
       "turbocharger_w_intercooler                    1\n",
       "bus                                           0\n",
       "cabriolet                                     0\n",
       "coupe                                         0\n",
       "hatchback                                     0\n",
       "mpv                                           1\n",
       "pickup                                        0\n",
       "sedan                                         0\n",
       "stationwagon                                  0\n",
       "suv_crossover                                 0\n",
       "electromagnetic_synchronous_motor             0\n",
       "valvetrain_ohc                                0\n",
       "valvetrain_ohv                                0\n",
       "permanent_magnet_synchronous_motor            0\n",
       "NO_verre_intim_arriere                        1\n",
       "vitesse_1ere                               3.58\n",
       "vitesse_2eme                               2.02\n",
       "vitesse_3eme                               1.35\n",
       "vitesse_4eme                               0.98\n",
       "vitesse_max                                 220\n",
       "NO_vitres_electriques                         0\n",
       "NO_vitres_teintees                            0\n",
       "voie_arriere                               1479\n",
       "voie_avant                                 1462\n",
       "NO_volant_cuir                                0\n",
       "NO_volant_reglable                            0\n",
       "volume_coffre_min                           150\n",
       "volume_coffre_max                          1700\n",
       "zero_100                                    8.2\n",
       "Name: 0, dtype: object"
      ]
     },
     "execution_count": 11,
     "metadata": {},
     "output_type": "execute_result"
    }
   ],
   "source": [
    "carsdata.iloc[0,:]"
   ]
  },
  {
   "cell_type": "code",
   "execution_count": 12,
   "metadata": {
    "collapsed": false,
    "scrolled": true
   },
   "outputs": [
    {
     "data": {
      "text/plain": [
       "NO_ABS                                        0\n",
       "NO_accoudoir_central                          1\n",
       "NO_airbag_conducteur                          0\n",
       "NO_airbag_lateraux                            0\n",
       "NO_airbag_passager                            0\n",
       "NO_airbag_tete_rideau                         0\n",
       "alesage_mm                                   86\n",
       "course_piston_mm                             86\n",
       "NO_allumage_auto_feux                         1\n",
       "NO_antipatinage                               0\n",
       "NO_appuis_tete_arriere                        0\n",
       "NO_assistant_freinage                         1\n",
       "NO_banquette_arriere_rabattable               0\n",
       "NO_blocage_differentiel                       1\n",
       "NO_bluetooth                                  1\n",
       "capacite_charge_max_kg                      625\n",
       "capacite_moteur_cc                         1998\n",
       "NO_capteur_stationnement                      0\n",
       "NO_capteur_temp_liquide_refroidissement       0\n",
       "LPG_carburant                                 0\n",
       "bio_ethanol_carburant                         0\n",
       "diesel_carburant                              0\n",
       "natural_gas_carburant                         0\n",
       "catalyseur_onregular                          0\n",
       "catalyseur_part_filter                        0\n",
       "catalyseur_egular                             1\n",
       "No_clim_bizone                                1\n",
       "NO_climatisation                              0\n",
       "NO_commande_audio_volant                      0\n",
       "compteur_jours                                1\n",
       "                                           ... \n",
       "twincharger                                   0\n",
       "turbocharger_w_intercooler                    1\n",
       "bus                                           0\n",
       "cabriolet                                     0\n",
       "coupe                                         0\n",
       "hatchback                                     0\n",
       "mpv                                           1\n",
       "pickup                                        0\n",
       "sedan                                         0\n",
       "stationwagon                                  0\n",
       "suv_crossover                                 0\n",
       "electromagnetic_synchronous_motor             0\n",
       "valvetrain_ohc                                0\n",
       "valvetrain_ohv                                0\n",
       "permanent_magnet_synchronous_motor            0\n",
       "NO_verre_intim_arriere                        1\n",
       "vitesse_1ere                               3.58\n",
       "vitesse_2eme                               2.02\n",
       "vitesse_3eme                               1.35\n",
       "vitesse_4eme                               0.98\n",
       "vitesse_max                                 220\n",
       "NO_vitres_electriques                         0\n",
       "NO_vitres_teintees                            0\n",
       "voie_arriere                               1479\n",
       "voie_avant                                 1462\n",
       "NO_volant_cuir                                0\n",
       "NO_volant_reglable                            0\n",
       "volume_coffre_min                           150\n",
       "volume_coffre_max                          1700\n",
       "zero_100                                    8.2\n",
       "Name: 0, dtype: object"
      ]
     },
     "execution_count": 12,
     "metadata": {},
     "output_type": "execute_result"
    }
   ],
   "source": [
    "carsdata.loc[0,:]"
   ]
  },
  {
   "cell_type": "code",
   "execution_count": 13,
   "metadata": {
    "collapsed": false,
    "scrolled": true
   },
   "outputs": [
    {
     "data": {
      "text/plain": [
       "NO_ABS                                        0\n",
       "NO_accoudoir_central                          1\n",
       "NO_airbag_conducteur                          0\n",
       "NO_airbag_lateraux                            0\n",
       "NO_airbag_passager                            0\n",
       "NO_airbag_tete_rideau                         0\n",
       "alesage_mm                                   86\n",
       "course_piston_mm                             86\n",
       "NO_allumage_auto_feux                         1\n",
       "NO_antipatinage                               0\n",
       "NO_appuis_tete_arriere                        0\n",
       "NO_assistant_freinage                         1\n",
       "NO_banquette_arriere_rabattable               0\n",
       "NO_blocage_differentiel                       1\n",
       "NO_bluetooth                                  1\n",
       "capacite_charge_max_kg                      625\n",
       "capacite_moteur_cc                         1998\n",
       "NO_capteur_stationnement                      0\n",
       "NO_capteur_temp_liquide_refroidissement       0\n",
       "LPG_carburant                                 0\n",
       "bio_ethanol_carburant                         0\n",
       "diesel_carburant                              0\n",
       "natural_gas_carburant                         0\n",
       "catalyseur_onregular                          0\n",
       "catalyseur_part_filter                        0\n",
       "catalyseur_egular                             1\n",
       "No_clim_bizone                                1\n",
       "NO_climatisation                              0\n",
       "NO_commande_audio_volant                      0\n",
       "compteur_jours                                1\n",
       "                                           ... \n",
       "twincharger                                   0\n",
       "turbocharger_w_intercooler                    1\n",
       "bus                                           0\n",
       "cabriolet                                     0\n",
       "coupe                                         0\n",
       "hatchback                                     0\n",
       "mpv                                           1\n",
       "pickup                                        0\n",
       "sedan                                         0\n",
       "stationwagon                                  0\n",
       "suv_crossover                                 0\n",
       "electromagnetic_synchronous_motor             0\n",
       "valvetrain_ohc                                0\n",
       "valvetrain_ohv                                0\n",
       "permanent_magnet_synchronous_motor            0\n",
       "NO_verre_intim_arriere                        1\n",
       "vitesse_1ere                               3.58\n",
       "vitesse_2eme                               2.02\n",
       "vitesse_3eme                               1.35\n",
       "vitesse_4eme                               0.98\n",
       "vitesse_max                                 220\n",
       "NO_vitres_electriques                         0\n",
       "NO_vitres_teintees                            0\n",
       "voie_arriere                               1479\n",
       "voie_avant                                 1462\n",
       "NO_volant_cuir                                0\n",
       "NO_volant_reglable                            0\n",
       "volume_coffre_min                           150\n",
       "volume_coffre_max                          1700\n",
       "zero_100                                    8.2\n",
       "Name: 0, dtype: object"
      ]
     },
     "execution_count": 13,
     "metadata": {},
     "output_type": "execute_result"
    }
   ],
   "source": [
    "carsdata.ix[0,:]"
   ]
  },
  {
   "cell_type": "markdown",
   "metadata": {},
   "source": [
    "### Création de colonne"
   ]
  },
  {
   "cell_type": "code",
   "execution_count": 14,
   "metadata": {
    "collapsed": true
   },
   "outputs": [],
   "source": [
    "carsdata[\"NEW_COLUMN\"] = 9999"
   ]
  },
  {
   "cell_type": "code",
   "execution_count": 15,
   "metadata": {
    "collapsed": false
   },
   "outputs": [
    {
     "data": {
      "text/html": [
       "<div>\n",
       "<table border=\"1\" class=\"dataframe\">\n",
       "  <thead>\n",
       "    <tr style=\"text-align: right;\">\n",
       "      <th></th>\n",
       "      <th>NO_ABS</th>\n",
       "      <th>NO_accoudoir_central</th>\n",
       "      <th>NO_airbag_conducteur</th>\n",
       "      <th>NO_airbag_lateraux</th>\n",
       "      <th>NO_airbag_passager</th>\n",
       "      <th>NO_airbag_tete_rideau</th>\n",
       "      <th>alesage_mm</th>\n",
       "      <th>course_piston_mm</th>\n",
       "      <th>NO_allumage_auto_feux</th>\n",
       "      <th>NO_antipatinage</th>\n",
       "      <th>...</th>\n",
       "      <th>NO_vitres_electriques</th>\n",
       "      <th>NO_vitres_teintees</th>\n",
       "      <th>voie_arriere</th>\n",
       "      <th>voie_avant</th>\n",
       "      <th>NO_volant_cuir</th>\n",
       "      <th>NO_volant_reglable</th>\n",
       "      <th>volume_coffre_min</th>\n",
       "      <th>volume_coffre_max</th>\n",
       "      <th>zero_100</th>\n",
       "      <th>NEW_COLUMN</th>\n",
       "    </tr>\n",
       "  </thead>\n",
       "  <tbody>\n",
       "    <tr>\n",
       "      <th>0</th>\n",
       "      <td>0</td>\n",
       "      <td>1</td>\n",
       "      <td>0</td>\n",
       "      <td>0</td>\n",
       "      <td>0</td>\n",
       "      <td>0</td>\n",
       "      <td>86.0</td>\n",
       "      <td>86.0</td>\n",
       "      <td>1</td>\n",
       "      <td>0</td>\n",
       "      <td>...</td>\n",
       "      <td>0</td>\n",
       "      <td>0</td>\n",
       "      <td>1479.0</td>\n",
       "      <td>1462.0</td>\n",
       "      <td>0</td>\n",
       "      <td>0</td>\n",
       "      <td>150.0</td>\n",
       "      <td>1700.0</td>\n",
       "      <td>8.2</td>\n",
       "      <td>9999</td>\n",
       "    </tr>\n",
       "  </tbody>\n",
       "</table>\n",
       "<p>1 rows × 191 columns</p>\n",
       "</div>"
      ],
      "text/plain": [
       "   NO_ABS  NO_accoudoir_central  NO_airbag_conducteur  NO_airbag_lateraux  \\\n",
       "0       0                     1                     0                   0   \n",
       "\n",
       "   NO_airbag_passager  NO_airbag_tete_rideau  alesage_mm  course_piston_mm  \\\n",
       "0                   0                      0        86.0              86.0   \n",
       "\n",
       "   NO_allumage_auto_feux  NO_antipatinage     ...      NO_vitres_electriques  \\\n",
       "0                      1                0     ...                          0   \n",
       "\n",
       "   NO_vitres_teintees  voie_arriere  voie_avant  NO_volant_cuir  \\\n",
       "0                   0        1479.0      1462.0               0   \n",
       "\n",
       "   NO_volant_reglable  volume_coffre_min  volume_coffre_max  zero_100  \\\n",
       "0                   0              150.0             1700.0       8.2   \n",
       "\n",
       "   NEW_COLUMN  \n",
       "0        9999  \n",
       "\n",
       "[1 rows x 191 columns]"
      ]
     },
     "execution_count": 15,
     "metadata": {},
     "output_type": "execute_result"
    }
   ],
   "source": [
    "carsdata[:1]"
   ]
  },
  {
   "cell_type": "markdown",
   "metadata": {},
   "source": [
    "## 3- Mise en forme des données <a class=\"anchor\" id=\"Mise en forme des données\"></a>\n",
    "\n",
    "### Texte Unicode"
   ]
  },
  {
   "cell_type": "code",
   "execution_count": 16,
   "metadata": {
    "collapsed": true
   },
   "outputs": [],
   "source": [
    "import unicodedata\n",
    "# Exemple de donnée \n",
    "marque = u\"Citroën\""
   ]
  },
  {
   "cell_type": "code",
   "execution_count": 17,
   "metadata": {
    "collapsed": false
   },
   "outputs": [
    {
     "data": {
      "text/plain": [
       "u'Citro\\xebn'"
      ]
     },
     "execution_count": 17,
     "metadata": {},
     "output_type": "execute_result"
    }
   ],
   "source": [
    "marque"
   ]
  },
  {
   "cell_type": "code",
   "execution_count": 18,
   "metadata": {
    "collapsed": false
   },
   "outputs": [
    {
     "data": {
      "text/plain": [
       "False"
      ]
     },
     "execution_count": 18,
     "metadata": {},
     "output_type": "execute_result"
    }
   ],
   "source": [
    "#Exemple de problème\n",
    "marque == \"Citroen\""
   ]
  },
  {
   "cell_type": "markdown",
   "metadata": {},
   "source": [
    "Un caractère unicode peut avoir un code unique ou bien composé de deux codes"
   ]
  },
  {
   "cell_type": "code",
   "execution_count": 19,
   "metadata": {
    "collapsed": false
   },
   "outputs": [
    {
     "name": "stdout",
     "output_type": "stream",
     "text": [
      "ë\n"
     ]
    }
   ],
   "source": [
    "print(u'\\u00EB')"
   ]
  },
  {
   "cell_type": "code",
   "execution_count": 20,
   "metadata": {
    "collapsed": false
   },
   "outputs": [
    {
     "name": "stdout",
     "output_type": "stream",
     "text": [
      "e\n"
     ]
    }
   ],
   "source": [
    "print(u'\\u0065')"
   ]
  },
  {
   "cell_type": "code",
   "execution_count": 21,
   "metadata": {
    "collapsed": false
   },
   "outputs": [
    {
     "name": "stdout",
     "output_type": "stream",
     "text": [
      "̈\n"
     ]
    }
   ],
   "source": [
    "print(u'\\u0308')"
   ]
  },
  {
   "cell_type": "code",
   "execution_count": 22,
   "metadata": {
    "collapsed": false
   },
   "outputs": [
    {
     "name": "stdout",
     "output_type": "stream",
     "text": [
      "ë\n"
     ]
    }
   ],
   "source": [
    "print(u'\\u0065\\u0308')"
   ]
  },
  {
   "cell_type": "code",
   "execution_count": 23,
   "metadata": {
    "collapsed": false
   },
   "outputs": [
    {
     "data": {
      "text/plain": [
       "u'Citroe\\u0308n'"
      ]
     },
     "execution_count": 23,
     "metadata": {},
     "output_type": "execute_result"
    }
   ],
   "source": [
    "# Normal Form Decomposition : \n",
    "# séparation du caractère accentué en forme de base plus le code accentué\n",
    "unicodedata.normalize('NFD', marque)"
   ]
  },
  {
   "cell_type": "code",
   "execution_count": 24,
   "metadata": {
    "collapsed": false
   },
   "outputs": [
    {
     "data": {
      "text/plain": [
       "'Citroen'"
      ]
     },
     "execution_count": 24,
     "metadata": {},
     "output_type": "execute_result"
    }
   ],
   "source": [
    "marque_NFD = unicodedata.normalize('NFD', marque)\n",
    "\n",
    "# On peux ignorer les caractères non ASCII\n",
    "marque_ASCII = marque_NFD.encode('ASCII', 'ignore')\n",
    "marque_ASCII"
   ]
  },
  {
   "cell_type": "code",
   "execution_count": 25,
   "metadata": {
    "collapsed": false
   },
   "outputs": [
    {
     "data": {
      "text/plain": [
       "True"
      ]
     },
     "execution_count": 25,
     "metadata": {},
     "output_type": "execute_result"
    }
   ],
   "source": [
    "marque_ASCII == \"Citroen\""
   ]
  },
  {
   "cell_type": "markdown",
   "metadata": {},
   "source": [
    "### Dates\n",
    "\n",
    "Les dates peuvent avoir plusieur formes. L'afficage le plus simple d'une date est sous forme de `String`."
   ]
  },
  {
   "cell_type": "code",
   "execution_count": 26,
   "metadata": {
    "collapsed": false
   },
   "outputs": [
    {
     "data": {
      "text/plain": [
       "'01/03/201700/01/0000'"
      ]
     },
     "execution_count": 26,
     "metadata": {},
     "output_type": "execute_result"
    }
   ],
   "source": [
    "# Probleme : pas d'opération sur les dates\n",
    "premier_mars = '01/03/2017'\n",
    "un_mois = '00/01/0000'\n",
    "premier_mars + un_mois"
   ]
  },
  {
   "cell_type": "code",
   "execution_count": 27,
   "metadata": {
    "collapsed": false
   },
   "outputs": [],
   "source": [
    "import datetime as dt"
   ]
  },
  {
   "cell_type": "code",
   "execution_count": 28,
   "metadata": {
    "collapsed": false
   },
   "outputs": [
    {
     "data": {
      "text/plain": [
       "datetime.datetime(2017, 1, 1, 0, 3)"
      ]
     },
     "execution_count": 28,
     "metadata": {},
     "output_type": "execute_result"
    }
   ],
   "source": [
    "# la fonction strptime() reconnait une date a l'aide d'un format\n",
    "premier_mars_dt = dt.datetime.strptime(premier_mars, '%d/%M/%Y')\n",
    "premier_mars_dt"
   ]
  },
  {
   "cell_type": "code",
   "execution_count": 29,
   "metadata": {
    "collapsed": false
   },
   "outputs": [
    {
     "data": {
      "text/plain": [
       "'01-03'"
      ]
     },
     "execution_count": 29,
     "metadata": {},
     "output_type": "execute_result"
    }
   ],
   "source": [
    "# formatage pour l'affichage\n",
    "premier_mars_dt.strftime('%d-%M')"
   ]
  },
  {
   "cell_type": "code",
   "execution_count": 30,
   "metadata": {
    "collapsed": false
   },
   "outputs": [
    {
     "data": {
      "text/plain": [
       "'03-2017'"
      ]
     },
     "execution_count": 30,
     "metadata": {},
     "output_type": "execute_result"
    }
   ],
   "source": [
    "premier_mars_dt.strftime('%M-%Y')"
   ]
  },
  {
   "cell_type": "code",
   "execution_count": 31,
   "metadata": {
    "collapsed": false
   },
   "outputs": [
    {
     "data": {
      "text/plain": [
       "datetime.timedelta(80, 19634, 908000)"
      ]
     },
     "execution_count": 31,
     "metadata": {},
     "output_type": "execute_result"
    }
   ],
   "source": [
    "delta = dt.datetime.today() - premier_mars_dt\n",
    "delta"
   ]
  },
  {
   "cell_type": "code",
   "execution_count": 32,
   "metadata": {
    "collapsed": false
   },
   "outputs": [
    {
     "data": {
      "text/plain": [
       "6931634.908"
      ]
     },
     "execution_count": 32,
     "metadata": {},
     "output_type": "execute_result"
    }
   ],
   "source": [
    "delta.total_seconds()"
   ]
  },
  {
   "cell_type": "markdown",
   "metadata": {},
   "source": [
    "### Nettoyage de texte"
   ]
  },
  {
   "cell_type": "code",
   "execution_count": 33,
   "metadata": {
    "collapsed": true
   },
   "outputs": [],
   "source": [
    "raw_carsdata = pd.read_json('data/carsdata4.json')"
   ]
  },
  {
   "cell_type": "code",
   "execution_count": 34,
   "metadata": {
    "collapsed": false
   },
   "outputs": [
    {
     "data": {
      "text/html": [
       "<div>\n",
       "<table border=\"1\" class=\"dataframe\">\n",
       "  <thead>\n",
       "    <tr style=\"text-align: right;\">\n",
       "      <th></th>\n",
       "      <th>ABS</th>\n",
       "      <th>accoudoir_central</th>\n",
       "      <th>airbag_conducteur</th>\n",
       "      <th>airbag_lateraux</th>\n",
       "      <th>airbag_passager</th>\n",
       "      <th>airbag_tete_rideau</th>\n",
       "      <th>alesage_course_piston</th>\n",
       "      <th>allumage_auto_feux</th>\n",
       "      <th>antipatinage</th>\n",
       "      <th>appuis_tete_arriere</th>\n",
       "      <th>...</th>\n",
       "      <th>vitesse_4eme</th>\n",
       "      <th>vitesse_max</th>\n",
       "      <th>vitres_electriques</th>\n",
       "      <th>vitres_teintees</th>\n",
       "      <th>voie_arriere</th>\n",
       "      <th>voie_avant</th>\n",
       "      <th>volant_cuir</th>\n",
       "      <th>volant_reglable</th>\n",
       "      <th>volume_coffre</th>\n",
       "      <th>zero_100</th>\n",
       "    </tr>\n",
       "  </thead>\n",
       "  <tbody>\n",
       "    <tr>\n",
       "      <th>0</th>\n",
       "      <td>YES</td>\n",
       "      <td>NO</td>\n",
       "      <td>YES</td>\n",
       "      <td>YES(front)</td>\n",
       "      <td>YES</td>\n",
       "      <td>YES(front)</td>\n",
       "      <td>86,0 x 86,0 mm</td>\n",
       "      <td>NO</td>\n",
       "      <td>YES</td>\n",
       "      <td>YES</td>\n",
       "      <td>...</td>\n",
       "      <td>0,98:1</td>\n",
       "      <td>220 km/h</td>\n",
       "      <td>YES(front &amp; rear)</td>\n",
       "      <td>YES</td>\n",
       "      <td>1479 mm</td>\n",
       "      <td>1462 mm</td>\n",
       "      <td>YES</td>\n",
       "      <td>YES(height &amp; depth)</td>\n",
       "      <td>150-1700 l</td>\n",
       "      <td>8,2 s</td>\n",
       "    </tr>\n",
       "    <tr>\n",
       "      <th>1</th>\n",
       "      <td>YES</td>\n",
       "      <td>YES(front)</td>\n",
       "      <td>YES</td>\n",
       "      <td>NO</td>\n",
       "      <td>YES</td>\n",
       "      <td>NO</td>\n",
       "      <td>80,0 x 79,5 mm</td>\n",
       "      <td>NO</td>\n",
       "      <td>YES</td>\n",
       "      <td>NO</td>\n",
       "      <td>...</td>\n",
       "      <td>NaN</td>\n",
       "      <td>180 km/h</td>\n",
       "      <td>YES(front)</td>\n",
       "      <td>YES</td>\n",
       "      <td>1628 mm</td>\n",
       "      <td>1615 mm</td>\n",
       "      <td>NO</td>\n",
       "      <td>YES</td>\n",
       "      <td>3500 l</td>\n",
       "      <td>10,8 s</td>\n",
       "    </tr>\n",
       "    <tr>\n",
       "      <th>2</th>\n",
       "      <td>YES</td>\n",
       "      <td>YES(front &amp; rear)</td>\n",
       "      <td>YES</td>\n",
       "      <td>YES(front)</td>\n",
       "      <td>YES</td>\n",
       "      <td>NO</td>\n",
       "      <td>89,9 x 100,0 mm</td>\n",
       "      <td>NO</td>\n",
       "      <td>YES (since 4/2005)</td>\n",
       "      <td>YES</td>\n",
       "      <td>...</td>\n",
       "      <td>0,69:1</td>\n",
       "      <td>176 km/h</td>\n",
       "      <td>YES(front &amp; rear)</td>\n",
       "      <td>YES</td>\n",
       "      <td>1530 mm</td>\n",
       "      <td>1530 mm</td>\n",
       "      <td>YES</td>\n",
       "      <td>YES</td>\n",
       "      <td>410-1841 l</td>\n",
       "      <td>11,1 s</td>\n",
       "    </tr>\n",
       "    <tr>\n",
       "      <th>3</th>\n",
       "      <td>YES</td>\n",
       "      <td>NO</td>\n",
       "      <td>YES</td>\n",
       "      <td>YES(front)</td>\n",
       "      <td>YES</td>\n",
       "      <td>NO</td>\n",
       "      <td>NaN</td>\n",
       "      <td>YES</td>\n",
       "      <td>YES</td>\n",
       "      <td>YES</td>\n",
       "      <td>...</td>\n",
       "      <td>NaN</td>\n",
       "      <td>135 km/h</td>\n",
       "      <td>YES(front &amp; rear)</td>\n",
       "      <td>YES</td>\n",
       "      <td>1510 mm</td>\n",
       "      <td>1511 mm</td>\n",
       "      <td>YES</td>\n",
       "      <td>YES(height &amp; depth)</td>\n",
       "      <td>338-1225 l</td>\n",
       "      <td>13,5 s</td>\n",
       "    </tr>\n",
       "    <tr>\n",
       "      <th>4</th>\n",
       "      <td>YES</td>\n",
       "      <td>YES(front)</td>\n",
       "      <td>YES</td>\n",
       "      <td>YES(front)</td>\n",
       "      <td>YES</td>\n",
       "      <td>YES(front &amp; rear)</td>\n",
       "      <td>77,0 x 85,44 mm</td>\n",
       "      <td>YES</td>\n",
       "      <td>YES</td>\n",
       "      <td>YES</td>\n",
       "      <td>...</td>\n",
       "      <td>1,39:1</td>\n",
       "      <td>180 km/h</td>\n",
       "      <td>YES(front &amp; rear)</td>\n",
       "      <td>YES</td>\n",
       "      <td>1551 mm</td>\n",
       "      <td>1547 mm</td>\n",
       "      <td>YES</td>\n",
       "      <td>YES(height &amp; depth)</td>\n",
       "      <td>440-1486 l</td>\n",
       "      <td>11,5 s</td>\n",
       "    </tr>\n",
       "  </tbody>\n",
       "</table>\n",
       "<p>5 rows × 132 columns</p>\n",
       "</div>"
      ],
      "text/plain": [
       "   ABS  accoudoir_central airbag_conducteur airbag_lateraux airbag_passager  \\\n",
       "0  YES                 NO               YES      YES(front)             YES   \n",
       "1  YES         YES(front)               YES              NO             YES   \n",
       "2  YES  YES(front & rear)               YES      YES(front)             YES   \n",
       "3  YES                 NO               YES      YES(front)             YES   \n",
       "4  YES         YES(front)               YES      YES(front)             YES   \n",
       "\n",
       "  airbag_tete_rideau alesage_course_piston allumage_auto_feux  \\\n",
       "0         YES(front)        86,0 x 86,0 mm                 NO   \n",
       "1                 NO        80,0 x 79,5 mm                 NO   \n",
       "2                 NO       89,9 x 100,0 mm                 NO   \n",
       "3                 NO                   NaN                YES   \n",
       "4  YES(front & rear)       77,0 x 85,44 mm                YES   \n",
       "\n",
       "         antipatinage appuis_tete_arriere   ...    vitesse_4eme vitesse_max  \\\n",
       "0                 YES                 YES   ...          0,98:1    220 km/h   \n",
       "1                 YES                  NO   ...             NaN    180 km/h   \n",
       "2  YES (since 4/2005)                 YES   ...          0,69:1    176 km/h   \n",
       "3                 YES                 YES   ...             NaN    135 km/h   \n",
       "4                 YES                 YES   ...          1,39:1    180 km/h   \n",
       "\n",
       "  vitres_electriques vitres_teintees voie_arriere voie_avant volant_cuir  \\\n",
       "0  YES(front & rear)             YES      1479 mm    1462 mm         YES   \n",
       "1         YES(front)             YES      1628 mm    1615 mm          NO   \n",
       "2  YES(front & rear)             YES      1530 mm    1530 mm         YES   \n",
       "3  YES(front & rear)             YES      1510 mm    1511 mm         YES   \n",
       "4  YES(front & rear)             YES      1551 mm    1547 mm         YES   \n",
       "\n",
       "       volant_reglable volume_coffre zero_100  \n",
       "0  YES(height & depth)    150-1700 l    8,2 s  \n",
       "1                  YES        3500 l   10,8 s  \n",
       "2                  YES    410-1841 l   11,1 s  \n",
       "3  YES(height & depth)    338-1225 l   13,5 s  \n",
       "4  YES(height & depth)    440-1486 l   11,5 s  \n",
       "\n",
       "[5 rows x 132 columns]"
      ]
     },
     "execution_count": 34,
     "metadata": {},
     "output_type": "execute_result"
    }
   ],
   "source": [
    "raw_carsdata.head()"
   ]
  },
  {
   "cell_type": "markdown",
   "metadata": {
    "collapsed": true
   },
   "source": [
    "Les fonctions de manipulation de `String` usuelles peuvent être utilisées dans une DataFrame."
   ]
  },
  {
   "cell_type": "code",
   "execution_count": 48,
   "metadata": {
    "collapsed": false
   },
   "outputs": [
    {
     "data": {
      "text/plain": [
       "0    220 km/h\n",
       "1    180 km/h\n",
       "2    176 km/h\n",
       "3    135 km/h\n",
       "4    180 km/h\n",
       "Name: vitesse_max, dtype: object"
      ]
     },
     "execution_count": 48,
     "metadata": {},
     "output_type": "execute_result"
    }
   ],
   "source": [
    "# Split de texte\n",
    "vitesse = raw_carsdata.vitesse_max.head()\n",
    "vitesse"
   ]
  },
  {
   "cell_type": "markdown",
   "metadata": {},
   "source": [
    "Pour pouvoir utiliser le champ `vitesse_max` on a besoin d'extraire la valeur numérique."
   ]
  },
  {
   "cell_type": "code",
   "execution_count": 44,
   "metadata": {
    "collapsed": false
   },
   "outputs": [
    {
     "data": {
      "text/plain": [
       "0    [220, km/h]\n",
       "1    [180, km/h]\n",
       "2    [176, km/h]\n",
       "3    [135, km/h]\n",
       "4    [180, km/h]\n",
       "Name: vitesse_max, dtype: object"
      ]
     },
     "execution_count": 44,
     "metadata": {},
     "output_type": "execute_result"
    }
   ],
   "source": [
    "vitesse.str.split(' ')"
   ]
  },
  {
   "cell_type": "code",
   "execution_count": 46,
   "metadata": {
    "collapsed": false
   },
   "outputs": [
    {
     "data": {
      "text/plain": [
       "0    220\n",
       "1    180\n",
       "2    176\n",
       "3    135\n",
       "4    180\n",
       "Name: vitesse_max, dtype: object"
      ]
     },
     "execution_count": 46,
     "metadata": {},
     "output_type": "execute_result"
    }
   ],
   "source": [
    "valeur_vitesse = vitesse.str.split(' ').str[0]\n",
    "valeur_vitesse"
   ]
  },
  {
   "cell_type": "markdown",
   "metadata": {},
   "source": [
    "La chaine de caractères est alors convertie au format numérique."
   ]
  },
  {
   "cell_type": "code",
   "execution_count": 47,
   "metadata": {
    "collapsed": false
   },
   "outputs": [
    {
     "data": {
      "text/plain": [
       "0    220\n",
       "1    180\n",
       "2    176\n",
       "3    135\n",
       "4    180\n",
       "Name: vitesse_max, dtype: int64"
      ]
     },
     "execution_count": 47,
     "metadata": {},
     "output_type": "execute_result"
    }
   ],
   "source": [
    "pd.to_numeric(valeur_vitesse)"
   ]
  },
  {
   "cell_type": "code",
   "execution_count": 50,
   "metadata": {
    "collapsed": false
   },
   "outputs": [
    {
     "data": {
      "text/plain": [
       "0     8,2 s\n",
       "1    10,8 s\n",
       "2    11,1 s\n",
       "3    13,5 s\n",
       "4    11,5 s\n",
       "Name: zero_100, dtype: object"
      ]
     },
     "execution_count": 50,
     "metadata": {},
     "output_type": "execute_result"
    }
   ],
   "source": [
    "# Remplacement de texte avec la fonction replace()\n",
    "acceleration = raw_carsdata.zero_100.head()\n",
    "acceleration"
   ]
  },
  {
   "cell_type": "markdown",
   "metadata": {},
   "source": [
    "\n",
    "--------------------\n",
    "\n",
    "### _ Exercice 3_ <a class=\"anchor\" id=\"Exercice 3\"></a>\n",
    "\n",
    "Extraire le temps d'accélération de zéro à 100 km/h.\n",
    "\n",
    "---------------------"
   ]
  },
  {
   "cell_type": "markdown",
   "metadata": {},
   "source": [
    "\n",
    "--------------------\n",
    "\n",
    "### _ Exercice 4_ <a class=\"anchor\" id=\"Exercice 4\"></a>\n",
    "\n",
    "Extraire l'alésage et la course du piston dans deux nouvelles colonnes à partir du champ `alesage_course_piston`.\n",
    "\n",
    "---------------------"
   ]
  },
  {
   "cell_type": "markdown",
   "metadata": {},
   "source": [
    "### One hot encoding \n",
    "Ou dummification est la transformation d'une variable catégorielle en autant de variables binaires que de valeurs catégorielles moins une."
   ]
  },
  {
   "cell_type": "markdown",
   "metadata": {},
   "source": [
    "|   Levels  |  \n",
    "|----------:|\n",
    "|      LOW  |\n",
    "|      LOW  |\n",
    "|     HIGH  |\n",
    "|   MEDIUM  |\n",
    "|     HIGH  |\n",
    "\n",
    "Est transformée en:\n",
    "\n",
    "|  MEDIUM |   HIGH  |\n",
    "|--------:|--------:|\n",
    "|       0 |       0 |\n",
    "|       0 |       0 |\n",
    "|       0 |       1 |\n",
    "|       1 |       0 |\n",
    "|       0 |       1 |"
   ]
  },
  {
   "cell_type": "code",
   "execution_count": 57,
   "metadata": {
    "collapsed": false
   },
   "outputs": [
    {
     "data": {
      "text/html": [
       "<div>\n",
       "<table border=\"1\" class=\"dataframe\">\n",
       "  <thead>\n",
       "    <tr style=\"text-align: right;\">\n",
       "      <th></th>\n",
       "      <th>Levels</th>\n",
       "    </tr>\n",
       "  </thead>\n",
       "  <tbody>\n",
       "    <tr>\n",
       "      <th>0</th>\n",
       "      <td>LOW</td>\n",
       "    </tr>\n",
       "    <tr>\n",
       "      <th>1</th>\n",
       "      <td>LOW</td>\n",
       "    </tr>\n",
       "    <tr>\n",
       "      <th>2</th>\n",
       "      <td>HIGH</td>\n",
       "    </tr>\n",
       "    <tr>\n",
       "      <th>3</th>\n",
       "      <td>MEDIUM</td>\n",
       "    </tr>\n",
       "    <tr>\n",
       "      <th>4</th>\n",
       "      <td>HIGH</td>\n",
       "    </tr>\n",
       "  </tbody>\n",
       "</table>\n",
       "</div>"
      ],
      "text/plain": [
       "   Levels\n",
       "0     LOW\n",
       "1     LOW\n",
       "2    HIGH\n",
       "3  MEDIUM\n",
       "4    HIGH"
      ]
     },
     "execution_count": 57,
     "metadata": {},
     "output_type": "execute_result"
    }
   ],
   "source": [
    "ex_df = pd.DataFrame({\"Levels\":[\"LOW\",\"LOW\",\"HIGH\",\"MEDIUM\",\"HIGH\"]})\n",
    "ex_df"
   ]
  },
  {
   "cell_type": "code",
   "execution_count": 58,
   "metadata": {
    "collapsed": false
   },
   "outputs": [
    {
     "data": {
      "text/html": [
       "<div>\n",
       "<table border=\"1\" class=\"dataframe\">\n",
       "  <thead>\n",
       "    <tr style=\"text-align: right;\">\n",
       "      <th></th>\n",
       "      <th>Levels_HIGH</th>\n",
       "      <th>Levels_LOW</th>\n",
       "      <th>Levels_MEDIUM</th>\n",
       "    </tr>\n",
       "  </thead>\n",
       "  <tbody>\n",
       "    <tr>\n",
       "      <th>0</th>\n",
       "      <td>0</td>\n",
       "      <td>1</td>\n",
       "      <td>0</td>\n",
       "    </tr>\n",
       "    <tr>\n",
       "      <th>1</th>\n",
       "      <td>0</td>\n",
       "      <td>1</td>\n",
       "      <td>0</td>\n",
       "    </tr>\n",
       "    <tr>\n",
       "      <th>2</th>\n",
       "      <td>1</td>\n",
       "      <td>0</td>\n",
       "      <td>0</td>\n",
       "    </tr>\n",
       "    <tr>\n",
       "      <th>3</th>\n",
       "      <td>0</td>\n",
       "      <td>0</td>\n",
       "      <td>1</td>\n",
       "    </tr>\n",
       "    <tr>\n",
       "      <th>4</th>\n",
       "      <td>1</td>\n",
       "      <td>0</td>\n",
       "      <td>0</td>\n",
       "    </tr>\n",
       "  </tbody>\n",
       "</table>\n",
       "</div>"
      ],
      "text/plain": [
       "   Levels_HIGH  Levels_LOW  Levels_MEDIUM\n",
       "0            0           1              0\n",
       "1            0           1              0\n",
       "2            1           0              0\n",
       "3            0           0              1\n",
       "4            1           0              0"
      ]
     },
     "execution_count": 58,
     "metadata": {},
     "output_type": "execute_result"
    }
   ],
   "source": [
    "pd.get_dummies(ex_df)"
   ]
  },
  {
   "cell_type": "code",
   "execution_count": 59,
   "metadata": {
    "collapsed": false
   },
   "outputs": [
    {
     "data": {
      "text/html": [
       "<div>\n",
       "<table border=\"1\" class=\"dataframe\">\n",
       "  <thead>\n",
       "    <tr style=\"text-align: right;\">\n",
       "      <th></th>\n",
       "      <th>Levels_MEDIUM</th>\n",
       "      <th>Levels_HIGH</th>\n",
       "    </tr>\n",
       "  </thead>\n",
       "  <tbody>\n",
       "    <tr>\n",
       "      <th>0</th>\n",
       "      <td>0</td>\n",
       "      <td>0</td>\n",
       "    </tr>\n",
       "    <tr>\n",
       "      <th>1</th>\n",
       "      <td>0</td>\n",
       "      <td>0</td>\n",
       "    </tr>\n",
       "    <tr>\n",
       "      <th>2</th>\n",
       "      <td>0</td>\n",
       "      <td>1</td>\n",
       "    </tr>\n",
       "    <tr>\n",
       "      <th>3</th>\n",
       "      <td>1</td>\n",
       "      <td>0</td>\n",
       "    </tr>\n",
       "    <tr>\n",
       "      <th>4</th>\n",
       "      <td>0</td>\n",
       "      <td>1</td>\n",
       "    </tr>\n",
       "  </tbody>\n",
       "</table>\n",
       "</div>"
      ],
      "text/plain": [
       "   Levels_MEDIUM  Levels_HIGH\n",
       "0              0            0\n",
       "1              0            0\n",
       "2              0            1\n",
       "3              1            0\n",
       "4              0            1"
      ]
     },
     "execution_count": 59,
     "metadata": {},
     "output_type": "execute_result"
    }
   ],
   "source": [
    "pd.get_dummies(ex_df).loc[:,('Levels_MEDIUM','Levels_HIGH')]"
   ]
  },
  {
   "cell_type": "code",
   "execution_count": 68,
   "metadata": {
    "collapsed": false
   },
   "outputs": [
    {
     "data": {
      "text/html": [
       "<div>\n",
       "<table border=\"1\" class=\"dataframe\">\n",
       "  <thead>\n",
       "    <tr style=\"text-align: right;\">\n",
       "      <th></th>\n",
       "      <th>Levels_HIGH</th>\n",
       "      <th>Levels_MEDIUM</th>\n",
       "    </tr>\n",
       "  </thead>\n",
       "  <tbody>\n",
       "    <tr>\n",
       "      <th>0</th>\n",
       "      <td>0</td>\n",
       "      <td>0</td>\n",
       "    </tr>\n",
       "    <tr>\n",
       "      <th>1</th>\n",
       "      <td>0</td>\n",
       "      <td>0</td>\n",
       "    </tr>\n",
       "    <tr>\n",
       "      <th>2</th>\n",
       "      <td>1</td>\n",
       "      <td>0</td>\n",
       "    </tr>\n",
       "    <tr>\n",
       "      <th>3</th>\n",
       "      <td>0</td>\n",
       "      <td>1</td>\n",
       "    </tr>\n",
       "    <tr>\n",
       "      <th>4</th>\n",
       "      <td>1</td>\n",
       "      <td>0</td>\n",
       "    </tr>\n",
       "  </tbody>\n",
       "</table>\n",
       "</div>"
      ],
      "text/plain": [
       "   Levels_HIGH  Levels_MEDIUM\n",
       "0            0              0\n",
       "1            0              0\n",
       "2            1              0\n",
       "3            0              1\n",
       "4            1              0"
      ]
     },
     "execution_count": 68,
     "metadata": {},
     "output_type": "execute_result"
    }
   ],
   "source": [
    "# Alternative\n",
    "pd.get_dummies(ex_df).drop(['Levels_LOW'], axis=1)"
   ]
  },
  {
   "cell_type": "markdown",
   "metadata": {},
   "source": [
    "### Expressions Régulières\n",
    "Ce sont des chaines de caractères spéciaux qui permettent de reconnaître des groupes de caractères ou des patterns de manière générique.\n",
    "\n",
    "|  |  fonction  |\n",
    "|-------------------:|:-----------|\n",
    "| '^'  | Début d'un ligne  |\n",
    "| '$' | Fin d'une ligne  |\n",
    "| '.'  | N'impmorte quel caractère |\n",
    "| '\\d'  | Caractère numérique |\n",
    "| '\\w'  | Caractère alphanumérique |\n",
    "| '?' | Zéro ou une fois |\n",
    "| '+' | Une ou plusieurs répétitions |\n",
    "| '*' | N'importe quel nombre de répétitions |\n",
    "\n"
   ]
  },
  {
   "cell_type": "code",
   "execution_count": 69,
   "metadata": {
    "collapsed": true
   },
   "outputs": [],
   "source": [
    "ex_string = 'Je veux extraire la valeur 10 de cette chaine de caractères'"
   ]
  },
  {
   "cell_type": "code",
   "execution_count": 75,
   "metadata": {
    "collapsed": false
   },
   "outputs": [
    {
     "data": {
      "text/plain": [
       "'10'"
      ]
     },
     "execution_count": 75,
     "metadata": {},
     "output_type": "execute_result"
    }
   ],
   "source": [
    "import re\n",
    "re.search(r'\\d+', ex_string).group()"
   ]
  },
  {
   "cell_type": "code",
   "execution_count": 88,
   "metadata": {
    "collapsed": false
   },
   "outputs": [
    {
     "data": {
      "text/plain": [
       "('valeur', '10')"
      ]
     },
     "execution_count": 88,
     "metadata": {},
     "output_type": "execute_result"
    }
   ],
   "source": [
    "# On peut récupérer plusieurs éléments en même temps\n",
    "re.search(r'(\\w+) (\\d+)', ex_string).groups()"
   ]
  },
  {
   "cell_type": "markdown",
   "metadata": {},
   "source": [
    "\n",
    "--------------------\n",
    "\n",
    "### _ Exercice 5_ <a class=\"anchor\" id=\"Exercice 5\"></a>\n",
    "\n",
    "Créer une variable binaire à partir de la variable catégorielle `ABS`. Les valeurs en euros sont assimilées à un Non. Vous avez besoin de la fonction **`str.replace(--Expression régulière--)`** et de la fonction **`pd.get_dummies()`**.\n",
    "\n",
    "---------------------"
   ]
  },
  {
   "cell_type": "code",
   "execution_count": null,
   "metadata": {
    "collapsed": true
   },
   "outputs": [],
   "source": []
  }
 ],
 "metadata": {
  "kernelspec": {
   "display_name": "Python 2",
   "language": "python",
   "name": "python2"
  },
  "language_info": {
   "codemirror_mode": {
    "name": "ipython",
    "version": 2
   },
   "file_extension": ".py",
   "mimetype": "text/x-python",
   "name": "python",
   "nbconvert_exporter": "python",
   "pygments_lexer": "ipython2",
   "version": "2.7.11"
  }
 },
 "nbformat": 4,
 "nbformat_minor": 0
}
