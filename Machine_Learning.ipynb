{
 "cells": [
  {
   "cell_type": "markdown",
   "metadata": {},
   "source": [
    "# Machine Learning\n",
    "\n",
    "## Sommaire\n",
    "-------------------\n",
    "\n",
    "### 1 - [Scikit-Learn](## Scikit-Learn)\n",
    "* #### _[Exercice 1](## Exercice 1)_\n",
    "\n",
    "### 2 - [Le framework](## Le framework)\n",
    "* #### _[Exercice 2](## Exercice 2)_\n",
    "\n",
    "\n",
    "\n",
    "-------------------"
   ]
  },
  {
   "cell_type": "markdown",
   "metadata": {},
   "source": [
    "## 1 - Scikit-Learn <a class=\"anchor\" id=\"Scikit-Learn\"></a>\n",
    "[`Sklearn`](http://scikit-learn.org/stable/) est la librairie de machine learning de Python. Elle regroupe des algorithmes de:\n",
    "\n",
    "* Classification\n",
    "* Regression\n",
    "* Clustering\n",
    "* Dimensionality reduction\n",
    "* Model selection\n",
    "* Preprocessing\n",
    "\n",
    "L'objectif d'un algorithm d'apprentissage supervisé est de créer une variable de sortie qui résume correctement le(s) variable(s) d'entrée(s). Pour créer cette variable, l'algorithme doit capturer les régularités dans les variables d'entrée mais aussi généraliser à des données non encore observées.\n",
    "\n",
    "L'objectif d'entrainement d'un algorithme est de trouver l'equilibre entre deux types d'erreurs qu'un model peut produire:\n",
    "* biais: la modélisation de la variable de sortie ne prend pas suffisemant en compte les variations des variables d'entrée. On parle d'underfiting.\n",
    "* variance: le modèle prend trop en compte les variations des variables d'entrée. On parle d'overfiting.\n",
    "\n",
    "Pour équilibrer ces deux types d'erreurs, on utilise un échantillon d'entrainement et un échantillon de test. "
   ]
  },
  {
   "cell_type": "markdown",
   "metadata": {},
   "source": [
    "\n",
    "--------------------\n",
    "\n",
    "### _ Exercice 1_ <a class=\"anchor\" id=\"Exercice 1\"></a>\n",
    "\n",
    "Utiliser le librairie `train_test_split()` sur les données carsdata pour générer un jeu d'entrainement de 75% et un jeu de test de 25% des données.\n",
    "\n",
    "---------------------"
   ]
  },
  {
   "cell_type": "markdown",
   "metadata": {},
   "source": [
    "## 2 - Le framework <a class=\"anchor\" id=\"Le framework\"></a>\n",
    "L'algorithm est entrainé sur le training set, les prédictions se font sur le testing set et on évalue l'erreur du modèle.\n",
    "* fit\n",
    "* predict\n",
    "* evaluate"
   ]
  },
  {
   "cell_type": "markdown",
   "metadata": {},
   "source": [
    "\n",
    "--------------------\n",
    "\n",
    "### _ Exercice 2_ <a class=\"anchor\" id=\"Exercice 2\"></a>\n",
    "\n",
    "* Entrainer une modèle de régression linéaire (`linear_model.LinearRegression()`)pour prédire la vitesse max des données carsdata.\n",
    "* Prédir la vitesse max des données de test.\n",
    "* Evaluer la différence moyenne entre les prédictions et les valeur réelles.\n",
    "\n",
    "---------------------"
   ]
  },
  {
   "cell_type": "code",
   "execution_count": null,
   "metadata": {
    "collapsed": true
   },
   "outputs": [],
   "source": []
  }
 ],
 "metadata": {
  "kernelspec": {
   "display_name": "Python 2",
   "language": "python",
   "name": "python2"
  },
  "language_info": {
   "codemirror_mode": {
    "name": "ipython",
    "version": 2
   },
   "file_extension": ".py",
   "mimetype": "text/x-python",
   "name": "python",
   "nbconvert_exporter": "python",
   "pygments_lexer": "ipython2",
   "version": "2.7.11"
  }
 },
 "nbformat": 4,
 "nbformat_minor": 0
}
